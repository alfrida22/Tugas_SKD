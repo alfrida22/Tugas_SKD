{
 "cells": [
  {
   "cell_type": "code",
   "execution_count": 3,
   "id": "efff640e-88d5-4656-a5c3-2f83be77cb73",
   "metadata": {},
   "outputs": [
    {
     "name": "stdout",
     "output_type": "stream",
     "text": [
      "Public Key: (645191, 429491)\n",
      "Private Key: (645191, 70523)\n"
     ]
    },
    {
     "name": "stdin",
     "output_type": "stream",
     "text": [
      "Enter plaintext:  Cinta tidak bisa memilih.Itu yang dirasakan Ning (Amanda Manopo), gadis cantik yang dibesarkan di keluarga berpaham PKI, ketika mulai jatuh cinta dengan Ihsan (Chicco Kurniawan) yang dilahirkan di keluarga NU. Mulanya mereka berdua tidak peduli dengan perbedaan ini. Hingga suatu malam terjadi pertikaian yang mengerikan. Rashid (Samo Rafael), kakak Ihsan bersama puluhan anak muda Ansor lainnya, dicegat dan dibunuh oleh simpatisan PKI yang dipimpin oleh Rekoso (Iwa K), ayah Ning dan kaki tangannya, Busok (Reza Oktovian).Mengetahui situasi akan semakin genting, Ihsan mengajak lari Ning dari amukan amarah rakyat yang akan membalas dendam. Apakah Ning dan Ihsan akan selamat dari kemelut ini? Sebuah film drama tentang sepasang anak muda yang terjebak dalam kemelut berdarah di tahun 1965.\n"
     ]
    },
    {
     "name": "stdout",
     "output_type": "stream",
     "text": [
      "Enkripsi: [326095, 481231, 9320, 149270, 110743, 277020, 149270, 481231, 585849, 110743, 592052, 277020, 212691, 481231, 335353, 110743, 277020, 222227, 497864, 222227, 481231, 449465, 481231, 351774, 407549, 614786, 149270, 518599, 277020, 423713, 110743, 9320, 408456, 277020, 585849, 481231, 319699, 110743, 335353, 110743, 592052, 110743, 9320, 277020, 20345, 481231, 9320, 408456, 277020, 495409, 310606, 222227, 110743, 9320, 585849, 110743, 277020, 425527, 110743, 9320, 60092, 118380, 60092, 444821, 402928, 277020, 408456, 110743, 585849, 481231, 335353, 277020, 341752, 110743, 9320, 149270, 481231, 592052, 277020, 423713, 110743, 9320, 408456, 277020, 585849, 481231, 212691, 497864, 335353, 110743, 319699, 592052, 110743, 9320, 277020, 585849, 481231, 277020, 592052, 497864, 449465, 518599, 110743, 319699, 408456, 110743, 277020, 212691, 497864, 319699, 118380, 110743, 351774, 110743, 222227, 277020, 249773, 215751, 614786, 402928, 277020, 592052, 497864, 149270, 481231, 592052, 110743, 277020, 222227, 518599, 449465, 110743, 481231, 277020, 159342, 110743, 149270, 518599, 351774, 277020, 341752, 481231, 9320, 149270, 110743, 277020, 585849, 497864, 9320, 408456, 110743, 9320, 277020, 614786, 351774, 335353, 110743, 9320, 277020, 495409, 326095, 351774, 481231, 341752, 341752, 60092, 277020, 215751, 518599, 319699, 9320, 481231, 110743, 118056, 110743, 9320, 444821, 277020, 423713, 110743, 9320, 408456, 277020, 585849, 481231, 449465, 110743, 351774, 481231, 319699, 592052, 110743, 9320, 277020, 585849, 481231, 277020, 592052, 497864, 449465, 518599, 110743, 319699, 408456, 110743, 277020, 20345, 449612, 407549, 277020, 425527, 518599, 449465, 110743, 9320, 423713, 110743, 277020, 222227, 497864, 319699, 497864, 592052, 110743, 277020, 212691, 497864, 319699, 585849, 518599, 110743, 277020, 149270, 481231, 585849, 110743, 592052, 277020, 118380, 497864, 585849, 518599, 449465, 481231, 277020, 585849, 497864, 9320, 408456, 110743, 9320, 277020, 118380, 497864, 319699, 212691, 497864, 585849, 110743, 110743, 9320, 277020, 481231, 9320, 481231, 407549, 277020, 449042, 481231, 9320, 408456, 408456, 110743, 277020, 335353, 518599, 110743, 149270, 518599, 277020, 222227, 110743, 449465, 110743, 222227, 277020, 149270, 497864, 319699, 159342, 110743, 585849, 481231, 277020, 118380, 497864, 319699, 149270, 481231, 592052, 110743, 481231, 110743, 9320, 277020, 423713, 110743, 9320, 408456, 277020, 222227, 497864, 9320, 408456, 497864, 319699, 481231, 592052, 110743, 9320, 407549, 277020, 546959, 110743, 335353, 351774, 481231, 585849, 277020, 495409, 99589, 110743, 222227, 60092, 277020, 546959, 110743, 300882, 110743, 497864, 449465, 444821, 402928, 277020, 592052, 110743, 592052, 110743, 592052, 277020, 614786, 351774, 335353, 110743, 9320, 277020, 212691, 497864, 319699, 335353, 110743, 222227, 110743, 277020, 118380, 518599, 449465, 518599, 351774, 110743, 9320, 277020, 110743, 9320, 110743, 592052, 277020, 222227, 518599, 585849, 110743, 277020, 310606, 9320, 335353, 60092, 319699, 277020, 449465, 110743, 481231, 9320, 9320, 423713, 110743, 402928, 277020, 585849, 481231, 341752, 497864, 408456, 110743, 149270, 277020, 585849, 110743, 9320, 277020, 585849, 481231, 212691, 518599, 9320, 518599, 351774, 277020, 60092, 449465, 497864, 351774, 277020, 335353, 481231, 222227, 118380, 110743, 149270, 481231, 335353, 110743, 9320, 277020, 249773, 215751, 614786, 277020, 423713, 110743, 9320, 408456, 277020, 585849, 481231, 118380, 481231, 222227, 118380, 481231, 9320, 277020, 60092, 449465, 497864, 351774, 277020, 546959, 497864, 592052, 60092, 335353, 60092, 277020, 495409, 614786, 118056, 110743, 277020, 215751, 444821, 402928, 277020, 110743, 423713, 110743, 351774, 277020, 20345, 481231, 9320, 408456, 277020, 585849, 110743, 9320, 277020, 592052, 110743, 592052, 481231, 277020, 149270, 110743, 9320, 408456, 110743, 9320, 9320, 423713, 110743, 402928, 277020, 537466, 518599, 335353, 60092, 592052, 277020, 495409, 546959, 497864, 505027, 110743, 277020, 633261, 592052, 149270, 60092, 336614, 481231, 110743, 9320, 444821, 407549, 425527, 497864, 9320, 408456, 497864, 149270, 110743, 351774, 518599, 481231, 277020, 335353, 481231, 149270, 518599, 110743, 335353, 481231, 277020, 110743, 592052, 110743, 9320, 277020, 335353, 497864, 222227, 110743, 592052, 481231, 9320, 277020, 408456, 497864, 9320, 149270, 481231, 9320, 408456, 402928, 277020, 614786, 351774, 335353, 110743, 9320, 277020, 222227, 497864, 9320, 408456, 110743, 159342, 110743, 592052, 277020, 449465, 110743, 319699, 481231, 277020, 20345, 481231, 9320, 408456, 277020, 585849, 110743, 319699, 481231, 277020, 110743, 222227, 518599, 592052, 110743, 9320, 277020, 110743, 222227, 110743, 319699, 110743, 351774, 277020, 319699, 110743, 592052, 423713, 110743, 149270, 277020, 423713, 110743, 9320, 408456, 277020, 110743, 592052, 110743, 9320, 277020, 222227, 497864, 222227, 212691, 110743, 449465, 110743, 335353, 277020, 585849, 497864, 9320, 585849, 110743, 222227, 407549, 277020, 310606, 118380, 110743, 592052, 110743, 351774, 277020, 20345, 481231, 9320, 408456, 277020, 585849, 110743, 9320, 277020, 614786, 351774, 335353, 110743, 9320, 277020, 110743, 592052, 110743, 9320, 277020, 335353, 497864, 449465, 110743, 222227, 110743, 149270, 277020, 585849, 110743, 319699, 481231, 277020, 592052, 497864, 222227, 497864, 449465, 518599, 149270, 277020, 481231, 9320, 481231, 291842, 277020, 99589, 497864, 212691, 518599, 110743, 351774, 277020, 300882, 481231, 449465, 222227, 277020, 585849, 319699, 110743, 222227, 110743, 277020, 149270, 497864, 9320, 149270, 110743, 9320, 408456, 277020, 335353, 497864, 118380, 110743, 335353, 110743, 9320, 408456, 277020, 110743, 9320, 110743, 592052, 277020, 222227, 518599, 585849, 110743, 277020, 423713, 110743, 9320, 408456, 277020, 149270, 497864, 319699, 159342, 497864, 212691, 110743, 592052, 277020, 585849, 110743, 449465, 110743, 222227, 277020, 592052, 497864, 222227, 497864, 449465, 518599, 149270, 277020, 212691, 497864, 319699, 585849, 110743, 319699, 110743, 351774, 277020, 585849, 481231, 277020, 149270, 110743, 351774, 518599, 9320, 277020, 446174, 113676, 80836, 421570, 407549]\n",
      "Dekripsi: Cinta tidak bisa memilih.Itu yang dirasakan Ning (Amanda Manopo), gadis cantik yang dibesarkan di keluarga berpaham PKI, ketika mulai jatuh cinta dengan Ihsan (Chicco Kurniawan) yang dilahirkan di keluarga NU. Mulanya mereka berdua tidak peduli dengan perbedaan ini. Hingga suatu malam terjadi pertikaian yang mengerikan. Rashid (Samo Rafael), kakak Ihsan bersama puluhan anak muda Ansor lainnya, dicegat dan dibunuh oleh simpatisan PKI yang dipimpin oleh Rekoso (Iwa K), ayah Ning dan kaki tangannya, Busok (Reza Oktovian).Mengetahui situasi akan semakin genting, Ihsan mengajak lari Ning dari amukan amarah rakyat yang akan membalas dendam. Apakah Ning dan Ihsan akan selamat dari kemelut ini? Sebuah film drama tentang sepasang anak muda yang terjebak dalam kemelut berdarah di tahun 1965.\n"
     ]
    }
   ],
   "source": [
    "#!/usr/bin/env python\n",
    "# coding: utf-8\n",
    "\n",
    "import math\n",
    "import random\n",
    "\n",
    "# Fungsi untuk memeriksa apakah sebuah bilangan adalah bilangan prima\n",
    "def is_prime(num):\n",
    "    if num < 2:\n",
    "        return False\n",
    "    for i in range(2, int(math.sqrt(num)) + 1):\n",
    "        if num % i == 0:\n",
    "            return False\n",
    "    return True\n",
    "\n",
    "# Fungsi untuk menghitung invers modulo menggunakan algoritma Euclidean yang diperpanjang\n",
    "def modinv(a, m):\n",
    "    m0, x0, x1 = m, 0, 1\n",
    "    while a > 1:\n",
    "        q = a // m\n",
    "        m, a = a % m, m\n",
    "        x0, x1 = x1 - q * x0, x0\n",
    "    return x1 + m0 if x1 < 0 else x1\n",
    "\n",
    "# Fungsi untuk menghasilkan pasangan kunci RSA (public key, private key)\n",
    "def generate_keypair():\n",
    "    # Pilih bilangan prima acak p\n",
    "    p = random.randint(500, 1000)\n",
    "    while not is_prime(p):\n",
    "        p = random.randint(500, 1000)\n",
    "\n",
    "    # Pilih bilangan prima acak q, pastikan q != p\n",
    "    q = random.randint(500, 1000)\n",
    "    while not is_prime(q) or q == p:\n",
    "        q = random.randint(500, 1000)\n",
    "\n",
    "    # Hitung modulus n dan nilai Euler phi\n",
    "    n = p * q\n",
    "    phi = (p - 1) * (q - 1)\n",
    "\n",
    "    # Pilih eksponen enkripsi e, pastikan e relatif prima dengan phi\n",
    "    e = random.randint(1, phi)\n",
    "    while math.gcd(e, phi) != 1:\n",
    "        e = random.randint(1, phi)\n",
    "\n",
    "    # Hitung eksponen dekripsi d menggunakan modinv\n",
    "    d = modinv(e, phi)\n",
    "\n",
    "    # Kembalikan pasangan kunci\n",
    "    return ((n, e), (n, d))\n",
    "\n",
    "# Fungsi untuk mengenkripsi plaintext menggunakan algoritma RSA\n",
    "def encrypt(public_key, plaintext):\n",
    "    n, e = public_key\n",
    "    # Enkripsi setiap karakter plaintext menjadi ciphertext\n",
    "    ciphertext = [pow(ord(char), e, n) for char in plaintext]\n",
    "    return ciphertext\n",
    "\n",
    "# Fungsi untuk mendekripsi ciphertext menggunakan algoritma RSA\n",
    "def decrypt(private_key, ciphertext):\n",
    "    n, d = private_key\n",
    "    # Dekripsi setiap karakter ciphertext menjadi plaintext\n",
    "    decrypted = [chr(pow(char, d, n)) for char in ciphertext]\n",
    "    return ''.join(decrypted)\n",
    "\n",
    "# Program utama\n",
    "if __name__ == '__main__':\n",
    "    # Generate pasangan kunci\n",
    "    public_key, private_key = generate_keypair()\n",
    "    print(f'Public Key: {public_key}')\n",
    "    print(f'Private Key: {private_key}')\n",
    "\n",
    "    # Input plaintext dari pengguna\n",
    "    plaintext = input('Enter plaintext: ')\n",
    "\n",
    "    # Enkripsi plaintext\n",
    "    ciphertext = encrypt(public_key, plaintext)\n",
    "    print(f'Enkripsi: {ciphertext}')\n",
    "\n",
    "    # Dekripsi ciphertext\n",
    "    decrypted_text = decrypt(private_key, ciphertext)\n",
    "    print(f'Dekripsi: {decrypted_text}')\n"
   ]
  },
  {
   "cell_type": "code",
   "execution_count": null,
   "id": "edcc0aec-ac33-45b4-aaea-a2b6bd08cc34",
   "metadata": {},
   "outputs": [],
   "source": []
  }
 ],
 "metadata": {
  "kernelspec": {
   "display_name": "Python 3 (ipykernel)",
   "language": "python",
   "name": "python3"
  },
  "language_info": {
   "codemirror_mode": {
    "name": "ipython",
    "version": 3
   },
   "file_extension": ".py",
   "mimetype": "text/x-python",
   "name": "python",
   "nbconvert_exporter": "python",
   "pygments_lexer": "ipython3",
   "version": "3.11.5"
  }
 },
 "nbformat": 4,
 "nbformat_minor": 5
}
