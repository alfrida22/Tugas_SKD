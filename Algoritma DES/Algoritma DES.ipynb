{
 "cells": [
  {
   "cell_type": "code",
   "execution_count": 3,
   "id": "6df4a2bb-4f0a-4b5b-ab5d-9f3fa7954571",
   "metadata": {},
   "outputs": [
    {
     "name": "stdin",
     "output_type": "stream",
     "text": [
      "Masukkan plaintext:  alfridaputri\n"
     ]
    },
    {
     "name": "stdout",
     "output_type": "stream",
     "text": [
      "Plain Text:  alfridaputri\n",
      "Encrypted Text:  b'\\xd0>C\\x19\\x18J\\xdf\\xca\\xf6\\xefH\\x882\\xae\\xfa\\xcf'\n",
      "Decrypted Text:  alfridaputri\u0004\u0004\u0004\u0004\n"
     ]
    }
   ],
   "source": [
    "from Crypto.Cipher import DES\n",
    "from Crypto.Util.Padding import pad\n",
    "\n",
    "# Get plaintext input from the user\n",
    "plain_text = input(\"Masukkan plaintext: \")\n",
    "\n",
    "# 8 byte block \n",
    "key = b'inikunci' \n",
    "\n",
    "# Set the length of the data to be encrypted\n",
    "BLOCK_SIZE = 8\n",
    "\n",
    "# Create a DES object with ECB mode\n",
    "des = DES.new(key, DES.MODE_ECB)\n",
    "\n",
    "# Pad the plaintext and encrypt it\n",
    "padded_text = pad(plain_text.encode(), BLOCK_SIZE)\n",
    "encrypted_text = des.encrypt(padded_text)\n",
    "\n",
    "# Display the results\n",
    "print(\"Plain Text: \", plain_text)\n",
    "print(\"Encrypted Text: \", encrypted_text)\n",
    "\n",
    "# Decrypt the encrypted text\n",
    "decrypted_text = des.decrypt(encrypted_text)\n",
    "\n",
    "# Display the decrypted text\n",
    "print(\"Decrypted Text: \", decrypted_text.decode())\n"
   ]
  },
  {
   "cell_type": "code",
   "execution_count": null,
   "id": "cdfaa569-74cf-4182-b734-4afcb782a280",
   "metadata": {},
   "outputs": [],
   "source": []
  }
 ],
 "metadata": {
  "kernelspec": {
   "display_name": "Python 3 (ipykernel)",
   "language": "python",
   "name": "python3"
  },
  "language_info": {
   "codemirror_mode": {
    "name": "ipython",
    "version": 3
   },
   "file_extension": ".py",
   "mimetype": "text/x-python",
   "name": "python",
   "nbconvert_exporter": "python",
   "pygments_lexer": "ipython3",
   "version": "3.11.5"
  }
 },
 "nbformat": 4,
 "nbformat_minor": 5
}
